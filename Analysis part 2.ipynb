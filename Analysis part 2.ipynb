{
    "cells": [
        {
            "cell_type": "markdown",
            "metadata": {
                "collapsed": true
            },
            "source": "## PART 2 Web scrapping of Population and Demographics data of New York city from Wikipedia ##"
        },
        {
            "cell_type": "code",
            "execution_count": 2,
            "metadata": {},
            "outputs": [
                {
                    "name": "stdout",
                    "output_type": "stream",
                    "text": "Solving environment: done\n\n## Package Plan ##\n\n  environment location: /opt/conda/envs/Python36\n\n  added / updated specs: \n    - geopy\n\n\nThe following packages will be downloaded:\n\n    package                    |            build\n    ---------------------------|-----------------\n    geographiclib-1.50         |             py_0          34 KB  conda-forge\n    ca-certificates-2020.4.5.2 |       hecda079_0         147 KB  conda-forge\n    python_abi-3.6             |          1_cp36m           4 KB  conda-forge\n    certifi-2020.4.5.2         |   py36h9f0ad1d_0         152 KB  conda-forge\n    openssl-1.1.1g             |       h516909a_0         2.1 MB  conda-forge\n    geopy-1.22.0               |     pyh9f0ad1d_0          63 KB  conda-forge\n    ------------------------------------------------------------\n                                           Total:         2.5 MB\n\nThe following NEW packages will be INSTALLED:\n\n    geographiclib:   1.50-py_0           conda-forge\n    geopy:           1.22.0-pyh9f0ad1d_0 conda-forge\n    python_abi:      3.6-1_cp36m         conda-forge\n\nThe following packages will be UPDATED:\n\n    ca-certificates: 2020.1.1-0                      --> 2020.4.5.2-hecda079_0     conda-forge\n    certifi:         2020.4.5.1-py36_0               --> 2020.4.5.2-py36h9f0ad1d_0 conda-forge\n    openssl:         1.1.1g-h7b6447c_0               --> 1.1.1g-h516909a_0         conda-forge\n\n\nDownloading and Extracting Packages\ngeographiclib-1.50   | 34 KB     | ##################################### | 100% \nca-certificates-2020 | 147 KB    | ##################################### | 100% \npython_abi-3.6       | 4 KB      | ##################################### | 100% \ncertifi-2020.4.5.2   | 152 KB    | ##################################### | 100% \nopenssl-1.1.1g       | 2.1 MB    | ##################################### | 100% \ngeopy-1.22.0         | 63 KB     | ##################################### | 100% \nPreparing transaction: done\nVerifying transaction: done\nExecuting transaction: done\nSolving environment: done\n\n## Package Plan ##\n\n  environment location: /opt/conda/envs/Python36\n\n  added / updated specs: \n    - folium=0.5.0\n\n\nThe following packages will be downloaded:\n\n    package                    |            build\n    ---------------------------|-----------------\n    folium-0.5.0               |             py_0          45 KB  conda-forge\n    altair-4.1.0               |             py_1         614 KB  conda-forge\n    branca-0.4.1               |             py_0          26 KB  conda-forge\n    vincent-0.4.4              |             py_1          28 KB  conda-forge\n    ------------------------------------------------------------\n                                           Total:         713 KB\n\nThe following NEW packages will be INSTALLED:\n\n    altair:  4.1.0-py_1 conda-forge\n    branca:  0.4.1-py_0 conda-forge\n    folium:  0.5.0-py_0 conda-forge\n    vincent: 0.4.4-py_1 conda-forge\n\n\nDownloading and Extracting Packages\nfolium-0.5.0         | 45 KB     | ##################################### | 100% \naltair-4.1.0         | 614 KB    | ##################################### | 100% \nbranca-0.4.1         | 26 KB     | ##################################### | 100% \nvincent-0.4.4        | 28 KB     | ##################################### | 100% \nPreparing transaction: done\nVerifying transaction: done\nExecuting transaction: done\nLibraries imported.\n"
                }
            ],
            "source": "import numpy as np \nimport pandas as pd\npd.set_option('display.max_columns', None)\npd.set_option('display.max_rows', None)\n\nimport json\n\n!conda install -c conda-forge geopy --yes \nfrom geopy.geocoders import Nominatim \n\nimport requests\nfrom pandas.io.json import json_normalize\n\nimport matplotlib.cm as cm\nimport matplotlib.colors as colors\n\n!conda install -c conda-forge folium=0.5.0 --yes\nimport folium \nimport csv \n\nimport matplotlib.cm as cm\nimport matplotlib.colors as colors\nimport matplotlib.pyplot as plt\nfrom bs4 import BeautifulSoup\nprint('Libraries imported.')"
        },
        {
            "cell_type": "code",
            "execution_count": 3,
            "metadata": {},
            "outputs": [],
            "source": "website_url = requests.get('https://en.wikipedia.org/wiki/Demographics_of_New_York_City').text\nsoup = BeautifulSoup(website_url,'lxml')\ntable = soup.find('table',{'class':'wikitable sortable'})\n#print(soup.prettify())\n\nheaders = [header.text for header in table.find_all('th')]\n\ntable_rows = table.find_all('tr')        \nrows = []\nfor row in table_rows:\n   td = row.find_all('td')\n   row = [row.text for row in td]\n   rows.append(row)\n\nwith open('BON2_POPULATION1.csv', 'w') as f:\n   writer = csv.writer(f)\n   writer.writerow(headers)\n   writer.writerows(row for row in rows if row)"
        },
        {
            "cell_type": "code",
            "execution_count": 4,
            "metadata": {},
            "outputs": [
                {
                    "name": "stdout",
                    "output_type": "stream",
                    "text": "Data downloaded!\n"
                }
            ],
            "source": "Pop_data=pd.read_csv('BON2_POPULATION1.csv')\nPop_data.drop(Pop_data.columns[[7,8,9,10,11]], axis=1,inplace=True)\nprint('Data downloaded!')"
        },
        {
            "cell_type": "code",
            "execution_count": 5,
            "metadata": {},
            "outputs": [
                {
                    "data": {
                        "text/html": "<div>\n<style scoped>\n    .dataframe tbody tr th:only-of-type {\n        vertical-align: middle;\n    }\n\n    .dataframe tbody tr th {\n        vertical-align: top;\n    }\n\n    .dataframe thead th {\n        text-align: right;\n    }\n</style>\n<table border=\"1\" class=\"dataframe\">\n  <thead>\n    <tr style=\"text-align: right;\">\n      <th></th>\n      <th>NewYorkCitysfiveboroughsvte</th>\n      <th>Jurisdiction</th>\n      <th>Population</th>\n      <th>GrossDomesticProduct</th>\n      <th>Landarea</th>\n      <th>Density</th>\n      <th>persons_sq_mi</th>\n      <th>squarekm</th>\n      <th>persons/sq.mi</th>\n      <th>persons/km2</th>\n    </tr>\n  </thead>\n  <tbody>\n    <tr>\n      <th>0</th>\n      <td>The Bronx\\n</td>\n      <td>\\n  Bronx\\n</td>\n      <td>1,418,207\\n</td>\n      <td>42.695\\n</td>\n      <td>30,100\\n</td>\n      <td>42.10\\n</td>\n      <td>109.04\\n</td>\n      <td>NaN</td>\n      <td>NaN</td>\n      <td>NaN</td>\n    </tr>\n    <tr>\n      <th>1</th>\n      <td>Brooklyn\\n</td>\n      <td>\\n  Kings\\n</td>\n      <td>2,559,903\\n</td>\n      <td>91.559\\n</td>\n      <td>35,800\\n</td>\n      <td>70.82\\n</td>\n      <td>183.42\\n</td>\n      <td>NaN</td>\n      <td>NaN</td>\n      <td>NaN</td>\n    </tr>\n    <tr>\n      <th>2</th>\n      <td>Manhattan\\n</td>\n      <td>\\n  New York\\n</td>\n      <td>1,628,706\\n</td>\n      <td>600.244\\n</td>\n      <td>368,500\\n</td>\n      <td>22.83\\n</td>\n      <td>59.13\\n</td>\n      <td>NaN</td>\n      <td>NaN</td>\n      <td>NaN</td>\n    </tr>\n    <tr>\n      <th>3</th>\n      <td>Queens\\n</td>\n      <td>\\n   Queens\\n</td>\n      <td>2,253,858\\n</td>\n      <td>93.310\\n</td>\n      <td>41,400\\n</td>\n      <td>108.53\\n</td>\n      <td>281.09\\n</td>\n      <td>NaN</td>\n      <td>NaN</td>\n      <td>NaN</td>\n    </tr>\n    <tr>\n      <th>4</th>\n      <td>Staten Island\\n</td>\n      <td>\\n   Richmond\\n</td>\n      <td>476,143\\n</td>\n      <td>14.514\\n</td>\n      <td>30,500\\n</td>\n      <td>58.37\\n</td>\n      <td>151.18\\n</td>\n      <td>NaN</td>\n      <td>NaN</td>\n      <td>NaN</td>\n    </tr>\n    <tr>\n      <th>5</th>\n      <td>City of New York</td>\n      <td>8,336,817</td>\n      <td>842.343</td>\n      <td>101,000</td>\n      <td>302.64</td>\n      <td>783.83</td>\n      <td>27,547</td>\n      <td>NaN</td>\n      <td>NaN</td>\n      <td>NaN</td>\n    </tr>\n    <tr>\n      <th>6</th>\n      <td>State of New York</td>\n      <td>19,453,561</td>\n      <td>1,731.910</td>\n      <td>89,000</td>\n      <td>47,214</td>\n      <td>122,284</td>\n      <td>412</td>\n      <td>NaN</td>\n      <td>NaN</td>\n      <td>NaN</td>\n    </tr>\n    <tr>\n      <th>7</th>\n      <td>Sources:[14] and see individual borough articl...</td>\n      <td>NaN</td>\n      <td>NaN</td>\n      <td>NaN</td>\n      <td>NaN</td>\n      <td>NaN</td>\n      <td>NaN</td>\n      <td>NaN</td>\n      <td>NaN</td>\n      <td>NaN</td>\n    </tr>\n  </tbody>\n</table>\n</div>",
                        "text/plain": "                       NewYorkCitysfiveboroughsvte\\n   Jurisdiction\\n  \\\n0                                        The Bronx\\n      \\n  Bronx\\n   \n1                                         Brooklyn\\n      \\n  Kings\\n   \n2                                        Manhattan\\n   \\n  New York\\n   \n3                                           Queens\\n    \\n   Queens\\n   \n4                                    Staten Island\\n  \\n   Richmond\\n   \n5                                   City of New York        8,336,817   \n6                                  State of New York       19,453,561   \n7  Sources:[14] and see individual borough articl...              NaN   \n\n  Population\\n GrossDomesticProduct\\n Landarea\\n Density\\n persons_sq_mi  \\\n0  1,418,207\\n               42.695\\n   30,100\\n   42.10\\n      109.04\\n   \n1  2,559,903\\n               91.559\\n   35,800\\n   70.82\\n      183.42\\n   \n2  1,628,706\\n              600.244\\n  368,500\\n   22.83\\n       59.13\\n   \n3  2,253,858\\n               93.310\\n   41,400\\n  108.53\\n      281.09\\n   \n4    476,143\\n               14.514\\n   30,500\\n   58.37\\n      151.18\\n   \n5      842.343                101,000     302.64    783.83        27,547   \n6    1,731.910                 89,000     47,214   122,284           412   \n7          NaN                    NaN        NaN       NaN           NaN   \n\n   squarekm  persons/sq.mi  persons/km2\\n  \n0       NaN            NaN            NaN  \n1       NaN            NaN            NaN  \n2       NaN            NaN            NaN  \n3       NaN            NaN            NaN  \n4       NaN            NaN            NaN  \n5       NaN            NaN            NaN  \n6       NaN            NaN            NaN  \n7       NaN            NaN            NaN  "
                    },
                    "execution_count": 5,
                    "metadata": {},
                    "output_type": "execute_result"
                }
            ],
            "source": "Pop_data.columns = Pop_data.columns.str.replace(' ', '')\nPop_data.columns = Pop_data.columns.str.replace('\\'','')\nPop_data.rename(columns={'Borough':'persons_sq_mi','County':'persons_sq_km'}, inplace=True)\nPop_data"
        },
        {
            "cell_type": "code",
            "execution_count": 6,
            "metadata": {},
            "outputs": [
                {
                    "data": {
                        "text/html": "<div>\n<style scoped>\n    .dataframe tbody tr th:only-of-type {\n        vertical-align: middle;\n    }\n\n    .dataframe tbody tr th {\n        vertical-align: top;\n    }\n\n    .dataframe thead th {\n        text-align: right;\n    }\n</style>\n<table border=\"1\" class=\"dataframe\">\n  <thead>\n    <tr style=\"text-align: right;\">\n      <th></th>\n      <th>Borough</th>\n      <th>County</th>\n      <th>Estimate_2017</th>\n      <th>GrossDomesticProduct</th>\n      <th>square_miles</th>\n      <th>square_km</th>\n      <th>persons_sq_mi</th>\n      <th>squarekm</th>\n      <th>persons/sq.mi</th>\n      <th>persons/km2</th>\n    </tr>\n  </thead>\n  <tbody>\n    <tr>\n      <th>0</th>\n      <td>The Bronx\\n</td>\n      <td>\\n  Bronx\\n</td>\n      <td>1,418,207\\n</td>\n      <td>42.695\\n</td>\n      <td>30,100\\n</td>\n      <td>42.10\\n</td>\n      <td>109.04\\n</td>\n      <td>NaN</td>\n      <td>NaN</td>\n      <td>NaN</td>\n    </tr>\n    <tr>\n      <th>1</th>\n      <td>Brooklyn\\n</td>\n      <td>\\n  Kings\\n</td>\n      <td>2,559,903\\n</td>\n      <td>91.559\\n</td>\n      <td>35,800\\n</td>\n      <td>70.82\\n</td>\n      <td>183.42\\n</td>\n      <td>NaN</td>\n      <td>NaN</td>\n      <td>NaN</td>\n    </tr>\n    <tr>\n      <th>2</th>\n      <td>Manhattan\\n</td>\n      <td>\\n  New York\\n</td>\n      <td>1,628,706\\n</td>\n      <td>600.244\\n</td>\n      <td>368,500\\n</td>\n      <td>22.83\\n</td>\n      <td>59.13\\n</td>\n      <td>NaN</td>\n      <td>NaN</td>\n      <td>NaN</td>\n    </tr>\n    <tr>\n      <th>3</th>\n      <td>Queens\\n</td>\n      <td>\\n   Queens\\n</td>\n      <td>2,253,858\\n</td>\n      <td>93.310\\n</td>\n      <td>41,400\\n</td>\n      <td>108.53\\n</td>\n      <td>281.09\\n</td>\n      <td>NaN</td>\n      <td>NaN</td>\n      <td>NaN</td>\n    </tr>\n    <tr>\n      <th>4</th>\n      <td>Staten Island\\n</td>\n      <td>\\n   Richmond\\n</td>\n      <td>476,143\\n</td>\n      <td>14.514\\n</td>\n      <td>30,500\\n</td>\n      <td>58.37\\n</td>\n      <td>151.18\\n</td>\n      <td>NaN</td>\n      <td>NaN</td>\n      <td>NaN</td>\n    </tr>\n    <tr>\n      <th>5</th>\n      <td>City of New York</td>\n      <td>8,336,817</td>\n      <td>842.343</td>\n      <td>101,000</td>\n      <td>302.64</td>\n      <td>783.83</td>\n      <td>27,547</td>\n      <td>NaN</td>\n      <td>NaN</td>\n      <td>NaN</td>\n    </tr>\n    <tr>\n      <th>6</th>\n      <td>State of New York</td>\n      <td>19,453,561</td>\n      <td>1,731.910</td>\n      <td>89,000</td>\n      <td>47,214</td>\n      <td>122,284</td>\n      <td>412</td>\n      <td>NaN</td>\n      <td>NaN</td>\n      <td>NaN</td>\n    </tr>\n    <tr>\n      <th>7</th>\n      <td>Sources:[14] and see individual borough articl...</td>\n      <td>NaN</td>\n      <td>NaN</td>\n      <td>NaN</td>\n      <td>NaN</td>\n      <td>NaN</td>\n      <td>NaN</td>\n      <td>NaN</td>\n      <td>NaN</td>\n      <td>NaN</td>\n    </tr>\n  </tbody>\n</table>\n</div>",
                        "text/plain": "                                             Borough           County  \\\n0                                        The Bronx\\n      \\n  Bronx\\n   \n1                                         Brooklyn\\n      \\n  Kings\\n   \n2                                        Manhattan\\n   \\n  New York\\n   \n3                                           Queens\\n    \\n   Queens\\n   \n4                                    Staten Island\\n  \\n   Richmond\\n   \n5                                   City of New York        8,336,817   \n6                                  State of New York       19,453,561   \n7  Sources:[14] and see individual borough articl...              NaN   \n\n  Estimate_2017 GrossDomesticProduct\\n square_miles square_km persons_sq_mi  \\\n0   1,418,207\\n               42.695\\n     30,100\\n   42.10\\n      109.04\\n   \n1   2,559,903\\n               91.559\\n     35,800\\n   70.82\\n      183.42\\n   \n2   1,628,706\\n              600.244\\n    368,500\\n   22.83\\n       59.13\\n   \n3   2,253,858\\n               93.310\\n     41,400\\n  108.53\\n      281.09\\n   \n4     476,143\\n               14.514\\n     30,500\\n   58.37\\n      151.18\\n   \n5       842.343                101,000       302.64    783.83        27,547   \n6     1,731.910                 89,000       47,214   122,284           412   \n7           NaN                    NaN          NaN       NaN           NaN   \n\n   squarekm  persons/sq.mi  persons/km2\\n  \n0       NaN            NaN            NaN  \n1       NaN            NaN            NaN  \n2       NaN            NaN            NaN  \n3       NaN            NaN            NaN  \n4       NaN            NaN            NaN  \n5       NaN            NaN            NaN  \n6       NaN            NaN            NaN  \n7       NaN            NaN            NaN  "
                    },
                    "execution_count": 6,
                    "metadata": {},
                    "output_type": "execute_result"
                }
            ],
            "source": "Pop_data.rename(columns = {'NewYorkCitysfiveboroughsvte\\n' : 'Borough',\n                   'Jurisdiction\\n':'County',\n                   'Population\\n':'Estimate_2017', \n                   'Landarea\\n':'square_miles',\n                    'Density\\n':'square_km'}, inplace=True)\nPop_data"
        },
        {
            "cell_type": "code",
            "execution_count": 7,
            "metadata": {},
            "outputs": [
                {
                    "data": {
                        "text/html": "<div>\n<style scoped>\n    .dataframe tbody tr th:only-of-type {\n        vertical-align: middle;\n    }\n\n    .dataframe tbody tr th {\n        vertical-align: top;\n    }\n\n    .dataframe thead th {\n        text-align: right;\n    }\n</style>\n<table border=\"1\" class=\"dataframe\">\n  <thead>\n    <tr style=\"text-align: right;\">\n      <th></th>\n      <th>Borough</th>\n      <th>County</th>\n      <th>Estimate_2017</th>\n      <th>GrossDomesticProduct</th>\n      <th>square_miles</th>\n      <th>square_km</th>\n      <th>persons_sq_mi</th>\n      <th>squarekm</th>\n      <th>persons/sq.mi</th>\n      <th>persons/km2</th>\n    </tr>\n  </thead>\n  <tbody>\n    <tr>\n      <th>0</th>\n      <td>The Bronx</td>\n      <td>Bronx</td>\n      <td>1,418,207</td>\n      <td>42.695\\n</td>\n      <td>30,100</td>\n      <td>42.10</td>\n      <td>109.04</td>\n      <td>NaN</td>\n      <td>NaN</td>\n      <td>NaN</td>\n    </tr>\n    <tr>\n      <th>1</th>\n      <td>Brooklyn</td>\n      <td>Kings</td>\n      <td>2,559,903</td>\n      <td>91.559\\n</td>\n      <td>35,800</td>\n      <td>70.82</td>\n      <td>183.42</td>\n      <td>NaN</td>\n      <td>NaN</td>\n      <td>NaN</td>\n    </tr>\n    <tr>\n      <th>2</th>\n      <td>Manhattan</td>\n      <td>New York</td>\n      <td>1,628,706</td>\n      <td>600.244\\n</td>\n      <td>368,500</td>\n      <td>22.83</td>\n      <td>59.13</td>\n      <td>NaN</td>\n      <td>NaN</td>\n      <td>NaN</td>\n    </tr>\n    <tr>\n      <th>3</th>\n      <td>Queens</td>\n      <td>Queens</td>\n      <td>2,253,858</td>\n      <td>93.310\\n</td>\n      <td>41,400</td>\n      <td>108.53</td>\n      <td>281.09</td>\n      <td>NaN</td>\n      <td>NaN</td>\n      <td>NaN</td>\n    </tr>\n    <tr>\n      <th>4</th>\n      <td>Staten Island</td>\n      <td>Richmond</td>\n      <td>476,143</td>\n      <td>14.514\\n</td>\n      <td>30,500</td>\n      <td>58.37</td>\n      <td>151.18</td>\n      <td>NaN</td>\n      <td>NaN</td>\n      <td>NaN</td>\n    </tr>\n    <tr>\n      <th>5</th>\n      <td>City of New York</td>\n      <td>8,336,817</td>\n      <td>842.343</td>\n      <td>101,000</td>\n      <td>302.64</td>\n      <td>783.83</td>\n      <td>27,547</td>\n      <td>NaN</td>\n      <td>NaN</td>\n      <td>NaN</td>\n    </tr>\n    <tr>\n      <th>6</th>\n      <td>State of New York</td>\n      <td>19,453,561</td>\n      <td>1,731.910</td>\n      <td>89,000</td>\n      <td>47,214</td>\n      <td>122,284</td>\n      <td>412</td>\n      <td>NaN</td>\n      <td>NaN</td>\n      <td>NaN</td>\n    </tr>\n    <tr>\n      <th>7</th>\n      <td>Sources:[14] and see individual borough articles</td>\n      <td>NaN</td>\n      <td>NaN</td>\n      <td>NaN</td>\n      <td>NaN</td>\n      <td>NaN</td>\n      <td>NaN</td>\n      <td>NaN</td>\n      <td>NaN</td>\n      <td>NaN</td>\n    </tr>\n  </tbody>\n</table>\n</div>",
                        "text/plain": "                                            Borough       County  \\\n0                                         The Bronx        Bronx   \n1                                          Brooklyn        Kings   \n2                                         Manhattan     New York   \n3                                            Queens       Queens   \n4                                     Staten Island     Richmond   \n5                                  City of New York    8,336,817   \n6                                 State of New York   19,453,561   \n7  Sources:[14] and see individual borough articles          NaN   \n\n  Estimate_2017 GrossDomesticProduct\\n square_miles square_km persons_sq_mi  \\\n0     1,418,207               42.695\\n       30,100     42.10        109.04   \n1     2,559,903               91.559\\n       35,800     70.82        183.42   \n2     1,628,706              600.244\\n      368,500     22.83         59.13   \n3     2,253,858               93.310\\n       41,400    108.53        281.09   \n4       476,143               14.514\\n       30,500     58.37        151.18   \n5       842.343                101,000       302.64    783.83        27,547   \n6     1,731.910                 89,000       47,214   122,284           412   \n7           NaN                    NaN          NaN       NaN           NaN   \n\n   squarekm  persons/sq.mi  persons/km2\\n  \n0       NaN            NaN            NaN  \n1       NaN            NaN            NaN  \n2       NaN            NaN            NaN  \n3       NaN            NaN            NaN  \n4       NaN            NaN            NaN  \n5       NaN            NaN            NaN  \n6       NaN            NaN            NaN  \n7       NaN            NaN            NaN  "
                    },
                    "execution_count": 7,
                    "metadata": {},
                    "output_type": "execute_result"
                }
            ],
            "source": "Pop_data['Borough']=Pop_data['Borough'].replace(to_replace='\\n', value='', regex=True)\nPop_data['County']=Pop_data['County'].replace(to_replace='\\n', value='', regex=True)\nPop_data['Estimate_2017']=Pop_data['Estimate_2017'].replace(to_replace='\\n', value='', regex=True)\nPop_data['square_miles']=Pop_data['square_miles'].replace(to_replace='\\n', value='', regex=True)\nPop_data['square_km']=Pop_data['square_km'].replace(to_replace='\\n', value='', regex=True)\nPop_data['persons_sq_mi']=Pop_data['persons_sq_mi'].replace(to_replace='\\n', value='', regex=True)\nPop_data"
        },
        {
            "cell_type": "markdown",
            "metadata": {},
            "source": "Shift data in the last two rows"
        },
        {
            "cell_type": "code",
            "execution_count": 8,
            "metadata": {},
            "outputs": [
                {
                    "data": {
                        "text/html": "<div>\n<style scoped>\n    .dataframe tbody tr th:only-of-type {\n        vertical-align: middle;\n    }\n\n    .dataframe tbody tr th {\n        vertical-align: top;\n    }\n\n    .dataframe thead th {\n        text-align: right;\n    }\n</style>\n<table border=\"1\" class=\"dataframe\">\n  <thead>\n    <tr style=\"text-align: right;\">\n      <th></th>\n      <th>Borough</th>\n      <th>County</th>\n      <th>Estimate_2017</th>\n      <th>GrossDomesticProduct</th>\n      <th>square_miles</th>\n      <th>square_km</th>\n      <th>persons_sq_mi</th>\n      <th>squarekm</th>\n      <th>persons/sq.mi</th>\n      <th>persons/km2</th>\n    </tr>\n  </thead>\n  <tbody>\n    <tr>\n      <th>0</th>\n      <td>The Bronx</td>\n      <td>Bronx</td>\n      <td>1,418,207</td>\n      <td>42.695\\n</td>\n      <td>30,100</td>\n      <td>42.10</td>\n      <td>109.04</td>\n      <td>NaN</td>\n      <td>NaN</td>\n      <td>NaN</td>\n    </tr>\n    <tr>\n      <th>1</th>\n      <td>Brooklyn</td>\n      <td>Kings</td>\n      <td>2,559,903</td>\n      <td>91.559\\n</td>\n      <td>35,800</td>\n      <td>70.82</td>\n      <td>183.42</td>\n      <td>NaN</td>\n      <td>NaN</td>\n      <td>NaN</td>\n    </tr>\n    <tr>\n      <th>2</th>\n      <td>Manhattan</td>\n      <td>New York</td>\n      <td>1,628,706</td>\n      <td>600.244\\n</td>\n      <td>368,500</td>\n      <td>22.83</td>\n      <td>59.13</td>\n      <td>NaN</td>\n      <td>NaN</td>\n      <td>NaN</td>\n    </tr>\n    <tr>\n      <th>3</th>\n      <td>Queens</td>\n      <td>Queens</td>\n      <td>2,253,858</td>\n      <td>93.310\\n</td>\n      <td>41,400</td>\n      <td>108.53</td>\n      <td>281.09</td>\n      <td>NaN</td>\n      <td>NaN</td>\n      <td>NaN</td>\n    </tr>\n    <tr>\n      <th>4</th>\n      <td>Staten Island</td>\n      <td>Richmond</td>\n      <td>476,143</td>\n      <td>14.514\\n</td>\n      <td>30,500</td>\n      <td>58.37</td>\n      <td>151.18</td>\n      <td>NaN</td>\n      <td>NaN</td>\n      <td>NaN</td>\n    </tr>\n    <tr>\n      <th>5</th>\n      <td>NaN</td>\n      <td>City of New York</td>\n      <td>8,336,817</td>\n      <td>101,000</td>\n      <td>842.343</td>\n      <td>302.64</td>\n      <td>783.83</td>\n      <td>NaN</td>\n      <td>NaN</td>\n      <td>NaN</td>\n    </tr>\n    <tr>\n      <th>6</th>\n      <td>NaN</td>\n      <td>State of New York</td>\n      <td>19,453,561</td>\n      <td>89,000</td>\n      <td>1,731.910</td>\n      <td>47,214</td>\n      <td>122,284</td>\n      <td>NaN</td>\n      <td>NaN</td>\n      <td>NaN</td>\n    </tr>\n    <tr>\n      <th>7</th>\n      <td>NaN</td>\n      <td>Sources:[14] and see individual borough articles</td>\n      <td>NaN</td>\n      <td>NaN</td>\n      <td>NaN</td>\n      <td>NaN</td>\n      <td>NaN</td>\n      <td>NaN</td>\n      <td>NaN</td>\n      <td>NaN</td>\n    </tr>\n  </tbody>\n</table>\n</div>",
                        "text/plain": "         Borough                                            County  \\\n0      The Bronx                                             Bronx   \n1       Brooklyn                                             Kings   \n2      Manhattan                                          New York   \n3         Queens                                            Queens   \n4  Staten Island                                          Richmond   \n5            NaN                                  City of New York   \n6            NaN                                 State of New York   \n7            NaN  Sources:[14] and see individual borough articles   \n\n  Estimate_2017 GrossDomesticProduct\\n square_miles square_km persons_sq_mi  \\\n0     1,418,207               42.695\\n       30,100     42.10        109.04   \n1     2,559,903               91.559\\n       35,800     70.82        183.42   \n2     1,628,706              600.244\\n      368,500     22.83         59.13   \n3     2,253,858               93.310\\n       41,400    108.53        281.09   \n4       476,143               14.514\\n       30,500     58.37        151.18   \n5     8,336,817                101,000      842.343    302.64        783.83   \n6    19,453,561                 89,000    1,731.910    47,214       122,284   \n7           NaN                    NaN          NaN       NaN           NaN   \n\n   squarekm  persons/sq.mi  persons/km2\\n  \n0       NaN            NaN            NaN  \n1       NaN            NaN            NaN  \n2       NaN            NaN            NaN  \n3       NaN            NaN            NaN  \n4       NaN            NaN            NaN  \n5       NaN            NaN            NaN  \n6       NaN            NaN            NaN  \n7       NaN            NaN            NaN  "
                    },
                    "execution_count": 8,
                    "metadata": {},
                    "output_type": "execute_result"
                }
            ],
            "source": "Pop_data.loc[5:,['square_km','persons_sq_mi']] = Pop_data.loc[2:,['square_km','persons_sq_mi']].shift(1,axis=1)\nPop_data.loc[5:,['square_miles','square_km']] = Pop_data.loc[2:,['square_miles','square_km']].shift(1,axis=1)\nPop_data.loc[5:,['Estimate_2017','square_miles']] = Pop_data.loc[2:,['Estimate_2017','square_miles']].shift(1,axis=1)\nPop_data.loc[5:,['County','Estimate_2017']] = Pop_data.loc[2:,['County','Estimate_2017']].shift(1,axis=1)\nPop_data.loc[5:,['Borough','County']] = Pop_data.loc[2:,['Borough','County']].shift(1,axis=1)\nPop_data"
        },
        {
            "cell_type": "markdown",
            "metadata": {},
            "source": "Remove 'NAN'"
        },
        {
            "cell_type": "code",
            "execution_count": 9,
            "metadata": {},
            "outputs": [
                {
                    "data": {
                        "text/html": "<div>\n<style scoped>\n    .dataframe tbody tr th:only-of-type {\n        vertical-align: middle;\n    }\n\n    .dataframe tbody tr th {\n        vertical-align: top;\n    }\n\n    .dataframe thead th {\n        text-align: right;\n    }\n</style>\n<table border=\"1\" class=\"dataframe\">\n  <thead>\n    <tr style=\"text-align: right;\">\n      <th></th>\n      <th>Borough</th>\n      <th>County</th>\n      <th>Estimate_2017</th>\n      <th>GrossDomesticProduct</th>\n      <th>square_miles</th>\n      <th>square_km</th>\n      <th>persons_sq_mi</th>\n      <th>squarekm</th>\n      <th>persons/sq.mi</th>\n      <th>persons/km2</th>\n    </tr>\n  </thead>\n  <tbody>\n    <tr>\n      <th>0</th>\n      <td>The Bronx</td>\n      <td>Bronx</td>\n      <td>1,418,207</td>\n      <td>42.695\\n</td>\n      <td>30,100</td>\n      <td>42.10</td>\n      <td>109.04</td>\n      <td></td>\n      <td></td>\n      <td></td>\n    </tr>\n    <tr>\n      <th>1</th>\n      <td>Brooklyn</td>\n      <td>Kings</td>\n      <td>2,559,903</td>\n      <td>91.559\\n</td>\n      <td>35,800</td>\n      <td>70.82</td>\n      <td>183.42</td>\n      <td></td>\n      <td></td>\n      <td></td>\n    </tr>\n    <tr>\n      <th>2</th>\n      <td>Manhattan</td>\n      <td>New York</td>\n      <td>1,628,706</td>\n      <td>600.244\\n</td>\n      <td>368,500</td>\n      <td>22.83</td>\n      <td>59.13</td>\n      <td></td>\n      <td></td>\n      <td></td>\n    </tr>\n    <tr>\n      <th>3</th>\n      <td>Queens</td>\n      <td>Queens</td>\n      <td>2,253,858</td>\n      <td>93.310\\n</td>\n      <td>41,400</td>\n      <td>108.53</td>\n      <td>281.09</td>\n      <td></td>\n      <td></td>\n      <td></td>\n    </tr>\n    <tr>\n      <th>4</th>\n      <td>Staten Island</td>\n      <td>Richmond</td>\n      <td>476,143</td>\n      <td>14.514\\n</td>\n      <td>30,500</td>\n      <td>58.37</td>\n      <td>151.18</td>\n      <td></td>\n      <td></td>\n      <td></td>\n    </tr>\n    <tr>\n      <th>5</th>\n      <td></td>\n      <td>City of New York</td>\n      <td>8,336,817</td>\n      <td>101,000</td>\n      <td>842.343</td>\n      <td>302.64</td>\n      <td>783.83</td>\n      <td></td>\n      <td></td>\n      <td></td>\n    </tr>\n    <tr>\n      <th>6</th>\n      <td></td>\n      <td>State of New York</td>\n      <td>19,453,561</td>\n      <td>89,000</td>\n      <td>1,731.910</td>\n      <td>47,214</td>\n      <td>122,284</td>\n      <td></td>\n      <td></td>\n      <td></td>\n    </tr>\n    <tr>\n      <th>7</th>\n      <td></td>\n      <td>Sources:[14] and see individual borough articles</td>\n      <td></td>\n      <td></td>\n      <td></td>\n      <td></td>\n      <td></td>\n      <td></td>\n      <td></td>\n      <td></td>\n    </tr>\n  </tbody>\n</table>\n</div>",
                        "text/plain": "         Borough                                            County  \\\n0      The Bronx                                             Bronx   \n1       Brooklyn                                             Kings   \n2      Manhattan                                          New York   \n3         Queens                                            Queens   \n4  Staten Island                                          Richmond   \n5                                                 City of New York   \n6                                                State of New York   \n7                 Sources:[14] and see individual borough articles   \n\n  Estimate_2017 GrossDomesticProduct\\n square_miles square_km persons_sq_mi  \\\n0     1,418,207               42.695\\n       30,100     42.10        109.04   \n1     2,559,903               91.559\\n       35,800     70.82        183.42   \n2     1,628,706              600.244\\n      368,500     22.83         59.13   \n3     2,253,858               93.310\\n       41,400    108.53        281.09   \n4       476,143               14.514\\n       30,500     58.37        151.18   \n5     8,336,817                101,000      842.343    302.64        783.83   \n6    19,453,561                 89,000    1,731.910    47,214       122,284   \n7                                                                             \n\n  squarekm persons/sq.mi persons/km2\\n  \n0                                       \n1                                       \n2                                       \n3                                       \n4                                       \n5                                       \n6                                       \n7                                       "
                    },
                    "execution_count": 9,
                    "metadata": {},
                    "output_type": "execute_result"
                }
            ],
            "source": "Pop_data = Pop_data.fillna('')\nPop_data"
        },
        {
            "cell_type": "markdown",
            "metadata": {},
            "source": "Drop the last row"
        },
        {
            "cell_type": "code",
            "execution_count": 10,
            "metadata": {},
            "outputs": [
                {
                    "data": {
                        "text/html": "<div>\n<style scoped>\n    .dataframe tbody tr th:only-of-type {\n        vertical-align: middle;\n    }\n\n    .dataframe tbody tr th {\n        vertical-align: top;\n    }\n\n    .dataframe thead th {\n        text-align: right;\n    }\n</style>\n<table border=\"1\" class=\"dataframe\">\n  <thead>\n    <tr style=\"text-align: right;\">\n      <th></th>\n      <th>Borough</th>\n      <th>County</th>\n      <th>Estimate_2017</th>\n      <th>GrossDomesticProduct</th>\n      <th>square_miles</th>\n      <th>square_km</th>\n      <th>persons_sq_mi</th>\n      <th>squarekm</th>\n      <th>persons/sq.mi</th>\n      <th>persons/km2</th>\n    </tr>\n  </thead>\n  <tbody>\n    <tr>\n      <th>0</th>\n      <td>The Bronx</td>\n      <td>Bronx</td>\n      <td>1,418,207</td>\n      <td>42.695\\n</td>\n      <td>30,100</td>\n      <td>42.10</td>\n      <td>109.04</td>\n      <td></td>\n      <td></td>\n      <td></td>\n    </tr>\n    <tr>\n      <th>1</th>\n      <td>Brooklyn</td>\n      <td>Kings</td>\n      <td>2,559,903</td>\n      <td>91.559\\n</td>\n      <td>35,800</td>\n      <td>70.82</td>\n      <td>183.42</td>\n      <td></td>\n      <td></td>\n      <td></td>\n    </tr>\n    <tr>\n      <th>2</th>\n      <td>Manhattan</td>\n      <td>New York</td>\n      <td>1,628,706</td>\n      <td>600.244\\n</td>\n      <td>368,500</td>\n      <td>22.83</td>\n      <td>59.13</td>\n      <td></td>\n      <td></td>\n      <td></td>\n    </tr>\n    <tr>\n      <th>3</th>\n      <td>Queens</td>\n      <td>Queens</td>\n      <td>2,253,858</td>\n      <td>93.310\\n</td>\n      <td>41,400</td>\n      <td>108.53</td>\n      <td>281.09</td>\n      <td></td>\n      <td></td>\n      <td></td>\n    </tr>\n    <tr>\n      <th>4</th>\n      <td>Staten Island</td>\n      <td>Richmond</td>\n      <td>476,143</td>\n      <td>14.514\\n</td>\n      <td>30,500</td>\n      <td>58.37</td>\n      <td>151.18</td>\n      <td></td>\n      <td></td>\n      <td></td>\n    </tr>\n    <tr>\n      <th>5</th>\n      <td></td>\n      <td>City of New York</td>\n      <td>8,336,817</td>\n      <td>101,000</td>\n      <td>842.343</td>\n      <td>302.64</td>\n      <td>783.83</td>\n      <td></td>\n      <td></td>\n      <td></td>\n    </tr>\n    <tr>\n      <th>6</th>\n      <td></td>\n      <td>State of New York</td>\n      <td>19,453,561</td>\n      <td>89,000</td>\n      <td>1,731.910</td>\n      <td>47,214</td>\n      <td>122,284</td>\n      <td></td>\n      <td></td>\n      <td></td>\n    </tr>\n  </tbody>\n</table>\n</div>",
                        "text/plain": "         Borough             County Estimate_2017 GrossDomesticProduct\\n  \\\n0      The Bronx              Bronx     1,418,207               42.695\\n   \n1       Brooklyn              Kings     2,559,903               91.559\\n   \n2      Manhattan           New York     1,628,706              600.244\\n   \n3         Queens             Queens     2,253,858               93.310\\n   \n4  Staten Island           Richmond       476,143               14.514\\n   \n5                  City of New York     8,336,817                101,000   \n6                 State of New York    19,453,561                 89,000   \n\n  square_miles square_km persons_sq_mi squarekm persons/sq.mi persons/km2\\n  \n0       30,100     42.10        109.04                                       \n1       35,800     70.82        183.42                                       \n2      368,500     22.83         59.13                                       \n3       41,400    108.53        281.09                                       \n4       30,500     58.37        151.18                                       \n5      842.343    302.64        783.83                                       \n6    1,731.910    47,214       122,284                                       "
                    },
                    "execution_count": 10,
                    "metadata": {},
                    "output_type": "execute_result"
                }
            ],
            "source": "i = Pop_data[((Pop_data.County == 'Sources:[14] and see individual borough articles'))].index\nPop_data.drop(i)"
        },
        {
            "cell_type": "markdown",
            "metadata": {},
            "source": "Save dataframe as csv file"
        },
        {
            "cell_type": "code",
            "execution_count": 11,
            "metadata": {},
            "outputs": [],
            "source": "Pop_data.to_csv('BON2_POPULATION.csv',index=False)"
        },
        {
            "cell_type": "markdown",
            "metadata": {},
            "source": "#### DEMOGRAPHICS DATA ####"
        },
        {
            "cell_type": "markdown",
            "metadata": {},
            "source": "We will web scrap Demographics data from wikipedia page - https://en.wikipedia.org/wiki/New_York_City\nWeb scrapping of Demographics data from wikipedia page using BeautifulSoup."
        },
        {
            "cell_type": "code",
            "execution_count": 12,
            "metadata": {},
            "outputs": [],
            "source": "import requests\nfrom bs4 import BeautifulSoup\nimport pandas as pd"
        },
        {
            "cell_type": "code",
            "execution_count": 13,
            "metadata": {},
            "outputs": [],
            "source": "url = 'https://en.wikipedia.org/wiki/New_York_City'\nwebsite_url = requests.get(url).text\nsoup = BeautifulSoup(website_url,'html.parser')\ntables = soup.find_all('table')\n\nfor table in tables:\n    if 'Racial composition' in table.text:\n        headers = [header.text.strip() for header in table.find_all('th')]\n        rows = []\n        table_rows = table.find_all('tr')    \n        for row in table_rows:\n           td = row.find_all('td')\n           row = [row.text for row in td]\n           rows.append(row)\n\ndf = pd.DataFrame(rows, columns=headers) "
        },
        {
            "cell_type": "code",
            "execution_count": 14,
            "metadata": {},
            "outputs": [
                {
                    "name": "stdout",
                    "output_type": "stream",
                    "text": "                 Racial composition 2010[235] 1990[237]   1970[237] 1940[237]\n0                              None      None      None        None      None\n1                             White     44.0%     52.3%       76.6%   93.6%\\n\n2                     \u2014Non-Hispanic     33.3%     43.2%  62.9%[238]   92.0%\\n\n3         Black or African American     25.5%     28.7%       21.1%    6.1%\\n\n4  Hispanic or Latino (of any race)     28.6%     24.4%  16.2%[238]    1.6%\\n\n5                             Asian     12.7%      7.0%        1.2%       \u2013\\n\n"
                }
            ],
            "source": "print(df)"
        },
        {
            "cell_type": "code",
            "execution_count": 23,
            "metadata": {},
            "outputs": [
                {
                    "data": {
                        "text/html": "<div>\n<style scoped>\n    .dataframe tbody tr th:only-of-type {\n        vertical-align: middle;\n    }\n\n    .dataframe tbody tr th {\n        vertical-align: top;\n    }\n\n    .dataframe thead th {\n        text-align: right;\n    }\n</style>\n<table border=\"1\" class=\"dataframe\">\n  <thead>\n    <tr style=\"text-align: right;\">\n      <th></th>\n      <th>Racialcomposition</th>\n      <th>2010</th>\n      <th>1990</th>\n      <th>1970</th>\n      <th>1940</th>\n    </tr>\n  </thead>\n  <tbody>\n    <tr>\n      <th>0</th>\n      <td>None</td>\n      <td>None</td>\n      <td>None</td>\n      <td>None</td>\n      <td>None</td>\n    </tr>\n    <tr>\n      <th>1</th>\n      <td>White</td>\n      <td>44.0%</td>\n      <td>52.3%</td>\n      <td>76.6%</td>\n      <td>93.6%\\n</td>\n    </tr>\n    <tr>\n      <th>2</th>\n      <td>\u2014Non-Hispanic</td>\n      <td>33.3%</td>\n      <td>43.2%</td>\n      <td>62.9%[238]</td>\n      <td>92.0%\\n</td>\n    </tr>\n    <tr>\n      <th>3</th>\n      <td>Black or African American</td>\n      <td>25.5%</td>\n      <td>28.7%</td>\n      <td>21.1%</td>\n      <td>6.1%\\n</td>\n    </tr>\n    <tr>\n      <th>4</th>\n      <td>Hispanic or Latino (of any race)</td>\n      <td>28.6%</td>\n      <td>24.4%</td>\n      <td>16.2%[238]</td>\n      <td>1.6%\\n</td>\n    </tr>\n    <tr>\n      <th>5</th>\n      <td>Asian</td>\n      <td>12.7%</td>\n      <td>7.0%</td>\n      <td>1.2%</td>\n      <td>\u2013\\n</td>\n    </tr>\n  </tbody>\n</table>\n</div>",
                        "text/plain": "                  Racialcomposition   2010   1990        1970     1940\n0                              None   None   None        None     None\n1                             White  44.0%  52.3%       76.6%  93.6%\\n\n2                     \u2014Non-Hispanic  33.3%  43.2%  62.9%[238]  92.0%\\n\n3         Black or African American  25.5%  28.7%       21.1%   6.1%\\n\n4  Hispanic or Latino (of any race)  28.6%  24.4%  16.2%[238]   1.6%\\n\n5                             Asian  12.7%   7.0%        1.2%      \u2013\\n"
                    },
                    "execution_count": 23,
                    "metadata": {},
                    "output_type": "execute_result"
                }
            ],
            "source": "df.rename(columns = {'2010[235]' : '2010',\n                   '1990[237]':'1990',\n                   '1970[237]':'1970', \n                   '1940[237]':'1940',\n                    }, inplace=True)\ndf"
        },
        {
            "cell_type": "code",
            "execution_count": 24,
            "metadata": {},
            "outputs": [],
            "source": "Demo_data = df"
        },
        {
            "cell_type": "code",
            "execution_count": 25,
            "metadata": {},
            "outputs": [
                {
                    "data": {
                        "text/plain": "Index(['Racialcomposition', '2010', '1990', '1970', '1940'], dtype='object')"
                    },
                    "execution_count": 25,
                    "metadata": {},
                    "output_type": "execute_result"
                }
            ],
            "source": "Demo_data.columns"
        },
        {
            "cell_type": "code",
            "execution_count": 26,
            "metadata": {},
            "outputs": [
                {
                    "data": {
                        "text/html": "<div>\n<style scoped>\n    .dataframe tbody tr th:only-of-type {\n        vertical-align: middle;\n    }\n\n    .dataframe tbody tr th {\n        vertical-align: top;\n    }\n\n    .dataframe thead th {\n        text-align: right;\n    }\n</style>\n<table border=\"1\" class=\"dataframe\">\n  <thead>\n    <tr style=\"text-align: right;\">\n      <th></th>\n      <th>Racialcomposition</th>\n      <th>2010</th>\n      <th>1990</th>\n      <th>1970</th>\n      <th>1940</th>\n    </tr>\n  </thead>\n  <tbody>\n    <tr>\n      <th>0</th>\n      <td>None</td>\n      <td>None</td>\n      <td>None</td>\n      <td>None</td>\n      <td>None</td>\n    </tr>\n    <tr>\n      <th>1</th>\n      <td>White</td>\n      <td>44.0%</td>\n      <td>52.3%</td>\n      <td>76.6%</td>\n      <td>93.6%\\n</td>\n    </tr>\n    <tr>\n      <th>2</th>\n      <td>\u2014Non-Hispanic</td>\n      <td>33.3%</td>\n      <td>43.2%</td>\n      <td>62.9%[238]</td>\n      <td>92.0%\\n</td>\n    </tr>\n    <tr>\n      <th>3</th>\n      <td>Black or African American</td>\n      <td>25.5%</td>\n      <td>28.7%</td>\n      <td>21.1%</td>\n      <td>6.1%\\n</td>\n    </tr>\n    <tr>\n      <th>4</th>\n      <td>Hispanic or Latino (of any race)</td>\n      <td>28.6%</td>\n      <td>24.4%</td>\n      <td>16.2%[238]</td>\n      <td>1.6%\\n</td>\n    </tr>\n    <tr>\n      <th>5</th>\n      <td>Asian</td>\n      <td>12.7%</td>\n      <td>7.0%</td>\n      <td>1.2%</td>\n      <td>\u2013\\n</td>\n    </tr>\n  </tbody>\n</table>\n</div>",
                        "text/plain": "                  Racialcomposition   2010   1990        1970     1940\n0                              None   None   None        None     None\n1                             White  44.0%  52.3%       76.6%  93.6%\\n\n2                     \u2014Non-Hispanic  33.3%  43.2%  62.9%[238]  92.0%\\n\n3         Black or African American  25.5%  28.7%       21.1%   6.1%\\n\n4  Hispanic or Latino (of any race)  28.6%  24.4%  16.2%[238]   1.6%\\n\n5                             Asian  12.7%   7.0%        1.2%      \u2013\\n"
                    },
                    "execution_count": 26,
                    "metadata": {},
                    "output_type": "execute_result"
                }
            ],
            "source": "Demo_data.rename(columns = {'2010[224]' : '2010',\n                   '1990[226]':'1990',\n                   '1970[226]':'1970', \n                   '1940[226]':'1940',\n                    }, inplace=True)\nDemo_data"
        },
        {
            "cell_type": "code",
            "execution_count": 27,
            "metadata": {},
            "outputs": [
                {
                    "data": {
                        "text/plain": "Index(['Racialcomposition', '2010', '1990', '1970', '1940'], dtype='object')"
                    },
                    "execution_count": 27,
                    "metadata": {},
                    "output_type": "execute_result"
                }
            ],
            "source": "Demo_data.columns"
        },
        {
            "cell_type": "code",
            "execution_count": 28,
            "metadata": {},
            "outputs": [],
            "source": "Demo_data.columns = Demo_data.columns.str.replace(' ', '')"
        },
        {
            "cell_type": "markdown",
            "metadata": {},
            "source": "Replace newline('\\n') from each string from left and right sides"
        },
        {
            "cell_type": "code",
            "execution_count": 29,
            "metadata": {},
            "outputs": [
                {
                    "data": {
                        "text/html": "<div>\n<style scoped>\n    .dataframe tbody tr th:only-of-type {\n        vertical-align: middle;\n    }\n\n    .dataframe tbody tr th {\n        vertical-align: top;\n    }\n\n    .dataframe thead th {\n        text-align: right;\n    }\n</style>\n<table border=\"1\" class=\"dataframe\">\n  <thead>\n    <tr style=\"text-align: right;\">\n      <th></th>\n      <th>Racialcomposition</th>\n      <th>2010</th>\n      <th>1990</th>\n      <th>1970</th>\n      <th>1940</th>\n    </tr>\n  </thead>\n  <tbody>\n    <tr>\n      <th>0</th>\n      <td>None</td>\n      <td>None</td>\n      <td>None</td>\n      <td>None</td>\n      <td>None</td>\n    </tr>\n    <tr>\n      <th>1</th>\n      <td>White</td>\n      <td>44.0%</td>\n      <td>52.3%</td>\n      <td>76.6%</td>\n      <td>93.6%</td>\n    </tr>\n    <tr>\n      <th>2</th>\n      <td>\u2014Non-Hispanic</td>\n      <td>33.3%</td>\n      <td>43.2%</td>\n      <td>62.9%[238]</td>\n      <td>92.0%</td>\n    </tr>\n    <tr>\n      <th>3</th>\n      <td>Black or African American</td>\n      <td>25.5%</td>\n      <td>28.7%</td>\n      <td>21.1%</td>\n      <td>6.1%</td>\n    </tr>\n    <tr>\n      <th>4</th>\n      <td>Hispanic or Latino (of any race)</td>\n      <td>28.6%</td>\n      <td>24.4%</td>\n      <td>16.2%[238]</td>\n      <td>1.6%</td>\n    </tr>\n    <tr>\n      <th>5</th>\n      <td>Asian</td>\n      <td>12.7%</td>\n      <td>7.0%</td>\n      <td>1.2%</td>\n      <td>\u2013</td>\n    </tr>\n  </tbody>\n</table>\n</div>",
                        "text/plain": "                  Racialcomposition   2010   1990        1970    1940\n0                              None   None   None        None    None\n1                             White  44.0%  52.3%       76.6%  93.6% \n2                     \u2014Non-Hispanic  33.3%  43.2%  62.9%[238]  92.0% \n3         Black or African American  25.5%  28.7%       21.1%   6.1% \n4  Hispanic or Latino (of any race)  28.6%  24.4%  16.2%[238]   1.6% \n5                             Asian  12.7%   7.0%        1.2%      \u2013 "
                    },
                    "execution_count": 29,
                    "metadata": {},
                    "output_type": "execute_result"
                }
            ],
            "source": "Demo_data= Demo_data.replace('\\n',' ', regex=True)\nDemo_data"
        },
        {
            "cell_type": "code",
            "execution_count": 32,
            "metadata": {},
            "outputs": [
                {
                    "data": {
                        "text/html": "<div>\n<style scoped>\n    .dataframe tbody tr th:only-of-type {\n        vertical-align: middle;\n    }\n\n    .dataframe tbody tr th {\n        vertical-align: top;\n    }\n\n    .dataframe thead th {\n        text-align: right;\n    }\n</style>\n<table border=\"1\" class=\"dataframe\">\n  <thead>\n    <tr style=\"text-align: right;\">\n      <th></th>\n      <th>Racialcomposition</th>\n      <th>2010</th>\n      <th>1990</th>\n      <th>1970</th>\n      <th>1940</th>\n    </tr>\n  </thead>\n  <tbody>\n    <tr>\n      <th>0</th>\n      <td>None</td>\n      <td>None</td>\n      <td>None</td>\n      <td>None</td>\n      <td>None</td>\n    </tr>\n    <tr>\n      <th>1</th>\n      <td>White</td>\n      <td>44.0%</td>\n      <td>52.3%</td>\n      <td>76.6%</td>\n      <td>93.6%</td>\n    </tr>\n    <tr>\n      <th>2</th>\n      <td>\u2014Non-Hispanic</td>\n      <td>33.3%</td>\n      <td>43.2%</td>\n      <td>62.9%</td>\n      <td>92.0%</td>\n    </tr>\n    <tr>\n      <th>3</th>\n      <td>Black or African American</td>\n      <td>25.5%</td>\n      <td>28.7%</td>\n      <td>21.1%</td>\n      <td>6.1%</td>\n    </tr>\n    <tr>\n      <th>4</th>\n      <td>Hispanic or Latino (of any race)</td>\n      <td>28.6%</td>\n      <td>24.4%</td>\n      <td>16.2%</td>\n      <td>1.6%</td>\n    </tr>\n    <tr>\n      <th>5</th>\n      <td>Asian</td>\n      <td>12.7%</td>\n      <td>7.0%</td>\n      <td>1.2%</td>\n      <td>\u2013</td>\n    </tr>\n  </tbody>\n</table>\n</div>",
                        "text/plain": "                  Racialcomposition   2010   1990   1970    1940\n0                              None   None   None   None    None\n1                             White  44.0%  52.3%  76.6%  93.6% \n2                     \u2014Non-Hispanic  33.3%  43.2%  62.9%  92.0% \n3         Black or African American  25.5%  28.7%  21.1%   6.1% \n4  Hispanic or Latino (of any race)  28.6%  24.4%  16.2%   1.6% \n5                             Asian  12.7%   7.0%   1.2%      \u2013 "
                    },
                    "execution_count": 32,
                    "metadata": {},
                    "output_type": "execute_result"
                }
            ],
            "source": "Demo_data['1970'] = Demo_data['1970'].str.rstrip('[238]')\nDemo_data"
        },
        {
            "cell_type": "code",
            "execution_count": 33,
            "metadata": {},
            "outputs": [],
            "source": "Demo_data.to_csv('BON2_DEMOGRAPHICS.csv',index=False)"
        },
        {
            "cell_type": "code",
            "execution_count": null,
            "metadata": {},
            "outputs": [],
            "source": ""
        }
    ],
    "metadata": {
        "kernelspec": {
            "display_name": "Python 3.6",
            "language": "python",
            "name": "python3"
        },
        "language_info": {
            "codemirror_mode": {
                "name": "ipython",
                "version": 3
            },
            "file_extension": ".py",
            "mimetype": "text/x-python",
            "name": "python",
            "nbconvert_exporter": "python",
            "pygments_lexer": "ipython3",
            "version": "3.6.9"
        }
    },
    "nbformat": 4,
    "nbformat_minor": 1
}