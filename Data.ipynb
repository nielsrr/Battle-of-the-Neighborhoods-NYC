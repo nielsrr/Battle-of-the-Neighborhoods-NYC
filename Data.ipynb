{
    "cells": [
        {
            "metadata": {
                "collapsed": true
            },
            "cell_type": "markdown",
            "source": "## Data ##"
        },
        {
            "metadata": {},
            "cell_type": "markdown",
            "source": "One city will be analysed in this project: New York City.\nWe will be using the below datasets for analysing"
        },
        {
            "metadata": {},
            "cell_type": "markdown",
            "source": "### Data source 1 ###"
        },
        {
            "metadata": {},
            "cell_type": "markdown",
            "source": "New York City has a total of 5 boroughs and 306 neighborhoods. In order to segement the neighborhoods and explore them, we will essentially need a dataset that contains the 5 boroughs and the neighborhoods that exist in each borough as well as the the latitude and logitude coordinates of each neighborhood."
        },
        {
            "metadata": {},
            "cell_type": "markdown",
            "source": "This dataset exists for free on the web. Link to the dataset is : https://geo.nyu.edu/catalog/nyu_2451_34572"
        },
        {
            "metadata": {},
            "cell_type": "markdown",
            "source": "### Data source 2 ###"
        },
        {
            "metadata": {},
            "cell_type": "markdown",
            "source": "Second data set that will be used is the DOHMH Farmers Markets and Food Boxes dataset. In this we will be using the data of Farmers Markets.\n\nhttps://data.cityofnewyork.us/dataset/DOHMH-Farmers-Markets-and-Food-Boxes/8vwk-6iz2\n\nWebsite-https://www.grownyc.org/greenmarketco/foodbox\nGrowNYC's Fresh Food Box Program is a food access initiative that enables under-served communities to purchase fresh, healthy, and primarily regionally grown produce well below traditional retail prices.\n\nA farmers' market is often defined as a public site used by two or more local or regional producers for the direct sale of farm products to consumers. In addition to fresh fruits and vegetables, markets may sell dairy products, fish, meat, baked goods, and other minimally processed foods."
        },
        {
            "metadata": {},
            "cell_type": "markdown",
            "source": "### Data source 3 ###"
        },
        {
            "metadata": {},
            "cell_type": "markdown",
            "source": "For the below analysis we will get data from wikipedia as given below :\n\n- New York Population\n- New York City Demographics\n- Cuisine of New York city\n\n\n- https://en.wikipedia.org/wiki/New_York_City\n- https://en.wikipedia.org/wiki/Economy_of_New_York_City\n- https://en.wikipedia.org/wiki/Portal:New_York_City\n- https://en.wikipedia.org/wiki/Cuisine_of_New_York_City\n- https://en.wikipedia.org/wiki/List_of_Michelin_starred_restaurants_in_New_York_City\n"
        },
        {
            "metadata": {},
            "cell_type": "markdown",
            "source": "### Data source 4 ###"
        },
        {
            "metadata": {},
            "cell_type": "markdown",
            "source": "New York City geographical coordinates data will be utilized as input for the Foursquare API, that will be leveraged to provision venues information for each neighborhood. We will use the Foursquare API to explore neighborhoods in New York City.",
            "attachments": {}
        },
        {
            "metadata": {},
            "cell_type": "markdown",
            "source": " "
        }
    ],
    "metadata": {
        "kernelspec": {
            "name": "python3",
            "display_name": "Python 3.6",
            "language": "python"
        },
        "language_info": {
            "name": "python",
            "version": "3.6.9",
            "mimetype": "text/x-python",
            "codemirror_mode": {
                "name": "ipython",
                "version": 3
            },
            "pygments_lexer": "ipython3",
            "nbconvert_exporter": "python",
            "file_extension": ".py"
        }
    },
    "nbformat": 4,
    "nbformat_minor": 1
}